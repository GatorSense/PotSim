{
 "cells": [
  {
   "cell_type": "code",
   "execution_count": null,
   "metadata": {},
   "outputs": [],
   "source": [
    "import os\n",
    "import pickle\n",
    "import random\n",
    "import time\n",
    "import re\n",
    "import itertools\n",
    "import math\n",
    "import json\n",
    "from pathlib import Path\n",
    "import warnings\n",
    "\n",
    "# globally ignore all warnings\n",
    "warnings.filterwarnings(\"ignore\")\n",
    "\n",
    "import polars as pl\n",
    "import numpy as np\n",
    "import pandas as pd\n",
    "import matplotlib.pyplot as plt\n",
    "import seaborn as sns\n",
    "from sklearn.metrics import r2_score, mean_absolute_error, root_mean_squared_error\n",
    "\n",
    "import itertools\n",
    "import torch\n",
    "import torch.nn as nn\n",
    "import torch.optim as optim\n",
    "from torch.utils.data import DataLoader,Dataset,TensorDataset,Subset\n",
    "import torch.multiprocessing as mp\n",
    "from torchinfo import summary\n",
    "\n",
    "\n",
    "from utils import preprocessing as ppsr\n",
    "from utils.potsimloader import potsimloader as psl\n",
    "from utils import split\n",
    "from models import forecast_enc_transformer\n",
    "from sklearn.preprocessing import MinMaxScaler\n",
    "from utils import scaler\n",
    "from training import train\n",
    "from testing import evaluate\n",
    "pl.enable_string_cache()"
   ]
  },
  {
   "cell_type": "code",
   "execution_count": null,
   "metadata": {},
   "outputs": [],
   "source": [
    "# #Part of Preprocessing.py file,mentioned here for additional clarity.\n",
    "# #function that geneartes treatment combination IDs for a given treatment valaues as an array\n",
    "# def generate_treatments(n_values):\n",
    "#     combis = list(itertools.product(n_values, repeat=3))\n",
    "#     return [\"-\".join(map(str, t)) for t in combis if sum(t) <= 400]\n",
    "\n",
    "# #Dataset is presented yearly, this definition merges all parques together and makes a single large data file\n",
    "# def join_potsim_yearly(data_dir, save_dir=Path(\"data\")):\n",
    "#     data_dir = Path(data_dir).resolve()\n",
    "#     files = os.listdir(data_dir)\n",
    "#     pattern = re.compile(r\"^potsim_\\d{4}\\.parquet$\")\n",
    "#     files = sorted([file for file in files if pattern.match(file)])\n",
    "#     files = [data_dir / file for file in files]\n",
    "#     df = pl.scan_parquet(files)\n",
    "#     filepath = save_dir / \"potsim.parquet\"\n",
    "#     df.sink_parquet(\n",
    "#         filepath,\n",
    "#         statistics=True,\n",
    "#         compression=\"zstd\",\n",
    "#         compression_level=1,\n",
    "#         row_group_size=1_000_000,\n",
    "#     )\n",
    "\n",
    "# #this is to specify what columns in the dataset are going to be used\n",
    "# usecols = ['Year', 'Date', 'Treatment', 'NFirstApp','PlantingDay', 'IrrgDep',\n",
    "#            'IrrgThresh', 'DayAfterPlant', 'NApp', 'NLeach', 'NPlantUp', 'NTotL1', \n",
    "#            'NTotL2', 'Irrg', 'SWatL1', 'SWatL2', 'Rain', 'SolarRad', 'AirTempC']\n",
    "\n",
    "# #This masking is done to level both the array sizes.The number of days in crop cycle changes for these settings, \n",
    "# # so this amsking would help bring oth of them to a same array size bya dding some dummies wherever needed.\n",
    "# mask = (\n",
    "#     ((pl.col(\"NFirstApp\") == \"Npl\") & (pl.col(\"DayAfterPlant\") >= -1)) |\n",
    "#     ((pl.col(\"NFirstApp\") == \"Npre\") & (pl.col(\"DayAfterPlant\") >= -37))\n",
    "# )\n",
    "\n",
    "# #MEtnioning the File paths and merging the dataset \n",
    "# potsim_yearly_dir = Path(\"data/potsim_yearly\")\n",
    "# weather_file = Path(\"data\") / \"weather.parquet\"\n",
    "# data_file = Path(\"data\") / \"potsim.parquet\"\n",
    "# if not data_file.exists():\n",
    "#     join_potsim_yearly(potsim_yearly_dir)\n",
    "\n",
    "\n",
    "# Sceanrios filter\n",
    "#[2014,2015,2016,2017,2018,2019,2020,2021,2022,2023]\n",
    "#[2001,2002,2003,2004,2005,2006,2007]\n",
    "# sceanrio_filter = {\n",
    "#     \"Year\":[2014,2015,2016,2017,2018,2019,2020,2021,2022,2023],\n",
    "#     \"PlantingDay\": [22,43],\n",
    "#     \"Treatment\": generate_treatments([56,112,168,0,196]),\n",
    "#     \"IrrgThresh\": [70],\n",
    "#     \"IrrgDep\": [30],\n",
    "#     \"NFirstApp\": \"Npl\"\n",
    "# }\n",
    "\n",
    "# data = psl.read_data(\n",
    "#     dataset_path = data_file,\n",
    "#     weather_path = weather_file,\n",
    "#     usecols = usecols,\n",
    "#     scenarios=sceanrio_filter,\n",
    "#     lazy = False\n",
    "# )\n",
    "# print(\"Saving the dataset for later use.\")"
   ]
  },
  {
   "cell_type": "markdown",
   "metadata": {},
   "source": [
    "The above code is bypassed as we have already run it and saved the data in the xls file,shown below. \n",
    "You can uncomment the above lines annd can run it to get the same xls file"
   ]
  },
  {
   "cell_type": "code",
   "execution_count": 46,
   "metadata": {},
   "outputs": [],
   "source": [
    "\n",
    "data=pd.read_excel(\"data/data_forc.xlsx\")\n"
   ]
  },
  {
   "cell_type": "code",
   "execution_count": 70,
   "metadata": {},
   "outputs": [],
   "source": [
    "#Feature Processing and data scaling"
   ]
  },
  {
   "cell_type": "code",
   "execution_count": null,
   "metadata": {},
   "outputs": [],
   "source": [
    "\n",
    "X,y= data[['PlantingDay', 'DayAfterPlant', 'NApp','Rain', 'SolarRad', 'AirTempC']], data['NLeach']\n",
    "y=np.array(y).reshape(y.shape[0],1)\n",
    "req_cols=['Year','Treatment','PlantingDay','DayAfterPlant','NApp','Rain','SolarRad','AirTempC','NLeach']\n",
    "data_cols=data[req_cols]\n",
    "copy_data=data_cols.copy()\n",
    "copy_data.iloc[:,3:].fillna(0,inplace=True)\n",
    "scaler=MinMaxScaler()\n",
    "copy_data.iloc[:,3:]=scaler.fit_transform(copy_data.iloc[:,3:])"
   ]
  },
  {
   "cell_type": "code",
   "execution_count": null,
   "metadata": {},
   "outputs": [],
   "source": [
    "def get_ip_op(data_cols):\n",
    "    #This definition will divide the data such that every example covers crop cycle length of features, the final \n",
    "    #result having the shape (#examples,#crop cycle or episode length, #features)\n",
    "    inp_data=[]\n",
    "    op_data=[]\n",
    "    op_data_l=[]\n",
    "    for yr in data_cols['Year'].unique():\n",
    "        for tmt in data_cols['Treatment'].unique():\n",
    "              for days in data_cols['PlantingDay'].unique():\n",
    "                  base=data_cols[(data_cols['Year']==yr)&(data_cols['Treatment']==tmt)&(data_cols['PlantingDay']==days)]\n",
    "                  inp_data.append(base.iloc[:,3:-1].to_numpy())\n",
    "                  op_data.append(base['NLeach'].to_numpy())\n",
    "                  op_data_l.append(base['NLeach'].iloc[-1])\n",
    "              \n",
    "    return inp_data,op_data,op_data_l\n",
    "\n"
   ]
  },
  {
   "cell_type": "code",
   "execution_count": 71,
   "metadata": {},
   "outputs": [],
   "source": [
    "def get_scen(data_cols,year,tmt,pl_day):\n",
    "    #Retreives a particular scenario from given data. Helpful during inference. \n",
    "    base=data_cols[(data_cols['Year']==year)&(data_cols['Treatment']==tmt)&(data_cols['PlantingDay']==pl_day)]\n",
    "    inp=base.iloc[:,3:-1].to_numpy()\n",
    "    op=base['NLeach'].to_numpy()\n",
    "    #Converting them to tensors\n",
    "    inp=torch.tensor(inp).float()\n",
    "    op=torch.tensor(op).float()\n",
    "\n",
    "              \n",
    "    return inp,op"
   ]
  },
  {
   "cell_type": "code",
   "execution_count": null,
   "metadata": {},
   "outputs": [],
   "source": [
    "#Converting to tensors and data types\n",
    "inp,op,op_l=get_ip_op(copy_data)\n",
    "op=np.array(op,dtype=np.float32)\n",
    "op_l=np.array(op_l,dtype=np.float32)\n",
    "#getting input and output tensors\n",
    "inp=torch.tensor(inp)\n",
    "op=torch.tensor(op).unsqueeze(2)\n",
    "inp=inp.float()\n",
    "op=op.float()"
   ]
  },
  {
   "cell_type": "markdown",
   "metadata": {},
   "source": [
    "Hyperparametrs setup"
   ]
  },
  {
   "cell_type": "code",
   "execution_count": null,
   "metadata": {},
   "outputs": [],
   "source": [
    "window_size = 40\n",
    "batch_size  = 32\n",
    "epochs      = 30\n",
    "lr          = 0.001"
   ]
  },
  {
   "attachments": {},
   "cell_type": "markdown",
   "metadata": {},
   "source": [
    "Dataset setup"
   ]
  },
  {
   "cell_type": "code",
   "execution_count": null,
   "metadata": {},
   "outputs": [],
   "source": [
    "device  = torch.device('cuda' if torch.cuda.is_available() else 'cpu')\n",
    "data_in = inp.float().to(device)    # [N_eps,155,4]\n",
    "data_op = op.float().to(device)     # [N_eps,155,1]\n",
    "N_eps   = data_in.size(0)\n",
    "H       = data_op.size(1) - window_size  # forecast horizon\n",
    "\n",
    "#Checking the shapes of input and output\n",
    "print(data_in.shape,data_op.shape)\n",
    "\n",
    "class TuberDataset(Dataset):\n",
    "    def __init__(self, X, Y, w):\n",
    "        self.X = X\n",
    "        self.Y = Y\n",
    "        self.w = w\n",
    "    def __len__(self):\n",
    "        return self.X.size(0)\n",
    "    def __getitem__(self, idx):\n",
    "        x = self.X[idx, :self.w, :]     # [w,5]\n",
    "        y = self.Y[idx, self.w:, :]     # [H,1]\n",
    "        return x, y\n",
    "\n",
    "full_ds     = TuberDataset(data_in, data_op, window_size)\n",
    "idx         = torch.randperm(N_eps)\n",
    "n_tr        = int(0.7*N_eps)\n",
    "n_val       = int(0.15*N_eps)\n",
    "train_idx   = idx[:n_tr]\n",
    "val_idx     = idx[n_tr:n_tr+n_val]\n",
    "test_idx    = idx[n_tr+n_val:]\n",
    "\n",
    "train_loader = DataLoader(Subset(full_ds, train_idx), batch_size=batch_size, shuffle=True)\n",
    "val_loader   = DataLoader(Subset(full_ds, val_idx),   batch_size=batch_size)\n",
    "test_loader  = DataLoader(Subset(full_ds, test_idx),  batch_size=1)\n",
    "\n",
    "\n",
    "\n"
   ]
  },
  {
   "cell_type": "code",
   "execution_count": null,
   "metadata": {},
   "outputs": [],
   "source": [
    "# instantiate the model.\n",
    "F     = data_in.size(2)\n",
    "model = forecast_enc_transformer.ForecastTransformerEncOnly(num_features=F,\n",
    "                                   horizon=H).to(device)\n",
    "opt   = torch.optim.Adam(model.parameters(), lr=lr)\n",
    "crit  = nn.MSELoss()"
   ]
  },
  {
   "cell_type": "code",
   "execution_count": null,
   "metadata": {},
   "outputs": [],
   "source": [
    "#Reteiving the saved weights for this model\n",
    "saved_model_file=\"saves/NLeach/NLeach_forecasting_EncoderOnnlyTransformer.pth\""
   ]
  },
  {
   "cell_type": "code",
   "execution_count": null,
   "metadata": {},
   "outputs": [
    {
     "data": {
      "text/plain": [
       "<All keys matched successfully>"
      ]
     },
     "execution_count": 65,
     "metadata": {},
     "output_type": "execute_result"
    }
   ],
   "source": [
    "#Loading the model with saved weights\n",
    "model.load_state_dict(torch.load(saved_model_file))"
   ]
  },
  {
   "cell_type": "markdown",
   "metadata": {},
   "source": [
    " VISUALIZATION ON A SINGLE EPISODE"
   ]
  },
  {
   "cell_type": "code",
   "execution_count": null,
   "metadata": {},
   "outputs": [],
   "source": [
    "def plot_episode(model,data,year,tmt,pl,w):\n",
    "\n",
    "    \"\"\"\n",
    "    inp_full: [N_eps,155,4], op_full: [N_eps,155,1]\n",
    "    \"\"\"\n",
    "    inp_full,op_full=get_scen(data,year,tmt,pl)\n",
    "    model.eval()\n",
    "    device = next(model.parameters()).device\n",
    "\n",
    "    # select one example\n",
    "    x = inp_full[:w, :].unsqueeze(0).to(device)  # (1, w, 4)\n",
    "    with torch.no_grad():\n",
    "        pred = model(x)                                 # (1, H, 1)\n",
    "\n",
    "    # convert to numpy\n",
    "    pred   = pred.squeeze(0).squeeze(-1).cpu().numpy()    # (H,)\n",
    "    actual = op_full[w:].cpu().numpy()           # (H,)\n",
    "\n",
    "    \n",
    "    # plot\n",
    "    plt.figure()\n",
    "    plt.plot(range(w, w+len(pred)), pred,   label='Predicted')\n",
    "    plt.plot(range(w, w+len(actual)), actual, label='Actual')\n",
    "    plt.xlabel('Timestep')\n",
    "    plt.ylabel('Value')\n",
    "    plt.title(f'Forecasting Treatment:',)\n",
    "    plt.legend()\n",
    "    plt.show()\n",
    "\n",
    "    return pred,actual\n",
    "\n"
   ]
  },
  {
   "cell_type": "code",
   "execution_count": 69,
   "metadata": {},
   "outputs": [
    {
     "data": {
      "image/png": "[encoded data removed]",
      "text/plain": [
       "<Figure size 640x480 with 1 Axes>"
      ]
     },
     "metadata": {},
     "output_type": "display_data"
    }
   ],
   "source": [
    "pred,act=plot_episode(model,copy_data,2023,\"56-168-112\",pl=43, w=window_size)"
   ]
  },
  {
   "cell_type": "code",
   "execution_count": null,
   "metadata": {},
   "outputs": [],
   "source": []
  }
 ],
 "metadata": {
  "kernelspec": {
   "display_name": "repo_env",
   "language": "python",
   "name": "python3"
  },
  "language_info": {
   "codemirror_mode": {
    "name": "ipython",
    "version": 3
   },
   "file_extension": ".py",
   "mimetype": "text/x-python",
   "name": "python",
   "nbconvert_exporter": "python",
   "pygments_lexer": "ipython3",
   "version": "3.12.10"
  },
  "orig_nbformat": 4
 },
 "nbformat": 4,
 "nbformat_minor": 2
}
