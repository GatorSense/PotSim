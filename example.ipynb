{
 "cells": [
  {
   "cell_type": "markdown",
   "id": "4a5f2cb2",
   "metadata": {},
   "source": [
    "- input some scenarios\n",
    "  - make it runnable for train.py\n",
    "  - "
   ]
  },
  {
   "cell_type": "code",
   "execution_count": null,
   "id": "f32fa726",
   "metadata": {
    "vscode": {
     "languageId": "plaintext"
    }
   },
   "outputs": [],
   "source": []
  }
 ],
 "metadata": {
  "language_info": {
   "name": "python"
  }
 },
 "nbformat": 4,
 "nbformat_minor": 5
}
